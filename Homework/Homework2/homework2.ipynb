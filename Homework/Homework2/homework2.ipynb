{
 "cells": [
  {
   "cell_type": "code",
   "execution_count": 21,
   "metadata": {},
   "outputs": [],
   "source": [
    "from sklearn.linear_model import LinearRegression\n",
    "import pandas as pd\n",
    "from sklearn.linear_model import LogisticRegression\n",
    "from sklearn.model_selection import cross_validate\n",
    "import warnings\n",
    "from IPython.display import display, Math\n",
    "from u import coef_to_exp\n",
    "import numpy as np\n",
    "warnings.filterwarnings('ignore')"
   ]
  },
  {
   "cell_type": "markdown",
   "metadata": {},
   "source": [
    "## Problem 1"
   ]
  },
  {
   "cell_type": "markdown",
   "metadata": {},
   "source": [
    "See word document"
   ]
  },
  {
   "cell_type": "markdown",
   "metadata": {},
   "source": [
    "## Problem 2"
   ]
  },
  {
   "cell_type": "code",
   "execution_count": 3,
   "metadata": {},
   "outputs": [],
   "source": [
    "data = pd.read_csv('data.csv')"
   ]
  },
  {
   "cell_type": "markdown",
   "metadata": {},
   "source": [
    "Question a"
   ]
  },
  {
   "cell_type": "code",
   "execution_count": 5,
   "metadata": {},
   "outputs": [
    {
     "name": "stdout",
     "output_type": "stream",
     "text": [
      "Expression for linear regression:\n"
     ]
    },
    {
     "data": {
      "text/latex": [
       "$\\displaystyle \\log(odd(y=1)) = + 0.111*Food - 0.020*Decor - 0.050*Service + 0.001*Price$"
      ],
      "text/plain": [
       "<IPython.core.display.Math object>"
      ]
     },
     "metadata": {},
     "output_type": "display_data"
    },
    {
     "name": "stdout",
     "output_type": "stream",
     "text": [
      "linear regression accuracy:0.11220631510377366\n"
     ]
    }
   ],
   "source": [
    "print('Expression for linear regression:')\n",
    "display(Math(coef_to_exp(LinearRegression().fit(data[['Food', 'Decor', 'Service', 'Price']], \n",
    "                                                data['InMichelin']).coef_, ['Food', 'Decor', 'Service', 'Price'])))\n",
    "print('linear regression accuracy:{}'.format(LinearRegression().fit(\n",
    "    data[['Food', 'Decor', 'Service', 'Price']], data['InMichelin']).score(\n",
    "    data[['Food', 'Decor', 'Service', 'Price']], data['InMichelin'])))"
   ]
  },
  {
   "cell_type": "markdown",
   "metadata": {},
   "source": [
    "Question b"
   ]
  },
  {
   "cell_type": "code",
   "execution_count": 14,
   "metadata": {
    "scrolled": true
   },
   "outputs": [
    {
     "name": "stdout",
     "output_type": "stream",
     "text": [
      "Expression for Logistic Regression:\n"
     ]
    },
    {
     "data": {
      "text/latex": [
       "$\\displaystyle \\log(odd(y=1)) = + 0.414*Food - 0.512*Decor - 0.195*Service + 0.142*Price$"
      ],
      "text/plain": [
       "<IPython.core.display.Math object>"
      ]
     },
     "metadata": {},
     "output_type": "display_data"
    },
    {
     "name": "stdout",
     "output_type": "stream",
     "text": [
      "linear regression accuracy:0.8181818181818182\n"
     ]
    }
   ],
   "source": [
    "print('Expression for Logistic Regression:')\n",
    "display(Math(coef_to_exp(LogisticRegression().fit(data[['Food', 'Decor', 'Service', 'Price']], \n",
    "                                                data['InMichelin']).coef_[0], ['Food', 'Decor', 'Service', 'Price'])))\n",
    "print('linear regression accuracy:{}'.format(LogisticRegression().fit(\n",
    "    data[['Food', 'Decor', 'Service', 'Price']], data['InMichelin']).score(\n",
    "    data[['Food', 'Decor', 'Service', 'Price']], data['InMichelin'])))"
   ]
  },
  {
   "cell_type": "markdown",
   "metadata": {},
   "source": [
    "Question c"
   ]
  },
  {
   "cell_type": "markdown",
   "metadata": {},
   "source": [
    "For one unit increased in one feature, the log odds increase = coef of that feature. \n",
    "For example, one unit increase in food, log odds increase 0.414"
   ]
  },
  {
   "cell_type": "markdown",
   "metadata": {},
   "source": [
    "Question d"
   ]
  },
  {
   "cell_type": "markdown",
   "metadata": {},
   "source": [
    "An increase of feature xk by one unit increases the prediction for y by βk units when all other feature values remain fixed.\n",
    "But in this classification, linear regression is limited by its unbounded output."
   ]
  },
  {
   "cell_type": "markdown",
   "metadata": {},
   "source": [
    "Question e"
   ]
  },
  {
   "cell_type": "code",
   "execution_count": 31,
   "metadata": {},
   "outputs": [
    {
     "name": "stdout",
     "output_type": "stream",
     "text": [
      "Accuracy would be 0.8181818181818182\n"
     ]
    }
   ],
   "source": [
    "print('Accuracy would be {}'.format(data[data['InMichelin']==1]['InMichelin'].sum()/data.shape[0]))"
   ]
  },
  {
   "cell_type": "markdown",
   "metadata": {},
   "source": [
    "For additional performance metric, we can use F score, precision, recall, AIC, BIC to evaluate"
   ]
  },
  {
   "cell_type": "markdown",
   "metadata": {},
   "source": [
    "## Problem 3"
   ]
  },
  {
   "cell_type": "code",
   "execution_count": 15,
   "metadata": {},
   "outputs": [],
   "source": [
    "data_full = pd.read_csv('data_full.csv', encoding='latin-1')\n",
    "data_full = data_full.drop('Restaurant Name', axis = 1)"
   ]
  },
  {
   "cell_type": "code",
   "execution_count": 23,
   "metadata": {},
   "outputs": [
    {
     "data": {
      "text/latex": [
       "$\\displaystyle \\log(odd(y=1)) = + 0.043*Food - 0.036*Decor - 0.239*Service + 0.139*Price$"
      ],
      "text/plain": [
       "<IPython.core.display.Math object>"
      ]
     },
     "metadata": {},
     "output_type": "display_data"
    },
    {
     "name": "stdout",
     "output_type": "stream",
     "text": [
      "For all parameter fold 0,| Accuracy_score is 0.7647058823529411\n",
      "\n",
      "\n"
     ]
    },
    {
     "data": {
      "text/latex": [
       "$\\displaystyle \\log(odd(y=1)) = + 0.071*Food + 0.010*Decor - 0.277*Service + 0.116*Price$"
      ],
      "text/plain": [
       "<IPython.core.display.Math object>"
      ]
     },
     "metadata": {},
     "output_type": "display_data"
    },
    {
     "name": "stdout",
     "output_type": "stream",
     "text": [
      "For all parameter fold 1,| Accuracy_score is 0.8235294117647058\n",
      "\n",
      "\n"
     ]
    },
    {
     "data": {
      "text/latex": [
       "$\\displaystyle \\log(odd(y=1)) = + 0.100*Food + 0.008*Decor - 0.322*Service + 0.128*Price$"
      ],
      "text/plain": [
       "<IPython.core.display.Math object>"
      ]
     },
     "metadata": {},
     "output_type": "display_data"
    },
    {
     "name": "stdout",
     "output_type": "stream",
     "text": [
      "For all parameter fold 2,| Accuracy_score is 0.5882352941176471\n",
      "\n",
      "\n"
     ]
    },
    {
     "data": {
      "text/latex": [
       "$\\displaystyle \\log(odd(y=1)) = + 0.083*Food + 0.033*Decor - 0.284*Service + 0.107*Price$"
      ],
      "text/plain": [
       "<IPython.core.display.Math object>"
      ]
     },
     "metadata": {},
     "output_type": "display_data"
    },
    {
     "name": "stdout",
     "output_type": "stream",
     "text": [
      "For all parameter fold 3,| Accuracy_score is 0.7647058823529411\n",
      "\n",
      "\n"
     ]
    },
    {
     "data": {
      "text/latex": [
       "$\\displaystyle \\log(odd(y=1)) = + 0.100*Food + 0.020*Decor - 0.306*Service + 0.113*Price$"
      ],
      "text/plain": [
       "<IPython.core.display.Math object>"
      ]
     },
     "metadata": {},
     "output_type": "display_data"
    },
    {
     "name": "stdout",
     "output_type": "stream",
     "text": [
      "For all parameter fold 4,| Accuracy_score is 0.8125\n",
      "\n",
      "\n"
     ]
    },
    {
     "data": {
      "text/latex": [
       "$\\displaystyle \\log(odd(y=1)) = + 0.124*Food - 0.038*Decor - 0.283*Service + 0.118*Price$"
      ],
      "text/plain": [
       "<IPython.core.display.Math object>"
      ]
     },
     "metadata": {},
     "output_type": "display_data"
    },
    {
     "name": "stdout",
     "output_type": "stream",
     "text": [
      "For all parameter fold 5,| Accuracy_score is 0.875\n",
      "\n",
      "\n"
     ]
    },
    {
     "data": {
      "text/latex": [
       "$\\displaystyle \\log(odd(y=1)) = + 0.098*Food - 0.018*Decor - 0.325*Service + 0.134*Price$"
      ],
      "text/plain": [
       "<IPython.core.display.Math object>"
      ]
     },
     "metadata": {},
     "output_type": "display_data"
    },
    {
     "name": "stdout",
     "output_type": "stream",
     "text": [
      "For all parameter fold 6,| Accuracy_score is 0.625\n",
      "\n",
      "\n"
     ]
    },
    {
     "data": {
      "text/latex": [
       "$\\displaystyle \\log(odd(y=1)) = + 0.091*Food - 0.007*Decor - 0.256*Service + 0.112*Price$"
      ],
      "text/plain": [
       "<IPython.core.display.Math object>"
      ]
     },
     "metadata": {},
     "output_type": "display_data"
    },
    {
     "name": "stdout",
     "output_type": "stream",
     "text": [
      "For all parameter fold 7,| Accuracy_score is 0.75\n",
      "\n",
      "\n"
     ]
    },
    {
     "data": {
      "text/latex": [
       "$\\displaystyle \\log(odd(y=1)) = + 0.087*Food - 0.023*Decor - 0.283*Service + 0.126*Price$"
      ],
      "text/plain": [
       "<IPython.core.display.Math object>"
      ]
     },
     "metadata": {},
     "output_type": "display_data"
    },
    {
     "name": "stdout",
     "output_type": "stream",
     "text": [
      "For all parameter fold 8,| Accuracy_score is 0.75\n",
      "\n",
      "\n"
     ]
    },
    {
     "data": {
      "text/latex": [
       "$\\displaystyle \\log(odd(y=1)) = + 0.077*Food + 0.015*Decor - 0.264*Service + 0.110*Price$"
      ],
      "text/plain": [
       "<IPython.core.display.Math object>"
      ]
     },
     "metadata": {},
     "output_type": "display_data"
    },
    {
     "name": "stdout",
     "output_type": "stream",
     "text": [
      "For all parameter fold 9,| Accuracy_score is 0.875\n",
      "\n",
      "\n",
      "Mean Accuracy = 0.7628676470588236\n"
     ]
    }
   ],
   "source": [
    "X = data_full[['Food','Decor','Service','Price']]\n",
    "y = data_full[['InMichelin']]\n",
    "accu = []\n",
    "cv_results = cross_validate(LogisticRegression(), X, y, cv=10, return_estimator = True)\n",
    "for i in range(len(cv_results['estimator'])):\n",
    "    accu.append(cv_results['test_score'][i])\n",
    "    display(Math(coef_to_exp(cv_results['estimator'][i].coef_[0], ['Food','Decor','Service','Price']))),\n",
    "    print('For all parameter fold {},| Accuracy_score is {}'\n",
    "          .format(i,cv_results['test_score'][i]))\n",
    "    print('\\n')\n",
    "print('Mean Accuracy = {}'.format(np.array(accu).mean()))"
   ]
  },
  {
   "cell_type": "code",
   "execution_count": 29,
   "metadata": {},
   "outputs": [
    {
     "data": {
      "text/latex": [
       "$\\displaystyle \\log(odd(y=1)) = + 0.023*Food - 0.233*Service + 0.132*Price$"
      ],
      "text/plain": [
       "<IPython.core.display.Math object>"
      ]
     },
     "metadata": {},
     "output_type": "display_data"
    },
    {
     "name": "stdout",
     "output_type": "stream",
     "text": [
      "For food, service, price, fold 0,| Accuracy_score is 0.7647058823529411\n",
      "\n",
      "\n"
     ]
    },
    {
     "data": {
      "text/latex": [
       "$\\displaystyle \\log(odd(y=1)) = + 0.076*Food - 0.278*Service + 0.118*Price$"
      ],
      "text/plain": [
       "<IPython.core.display.Math object>"
      ]
     },
     "metadata": {},
     "output_type": "display_data"
    },
    {
     "name": "stdout",
     "output_type": "stream",
     "text": [
      "For food, service, price, fold 1,| Accuracy_score is 0.8235294117647058\n",
      "\n",
      "\n"
     ]
    },
    {
     "data": {
      "text/latex": [
       "$\\displaystyle \\log(odd(y=1)) = + 0.104*Food - 0.323*Service + 0.130*Price$"
      ],
      "text/plain": [
       "<IPython.core.display.Math object>"
      ]
     },
     "metadata": {},
     "output_type": "display_data"
    },
    {
     "name": "stdout",
     "output_type": "stream",
     "text": [
      "For food, service, price, fold 2,| Accuracy_score is 0.5882352941176471\n",
      "\n",
      "\n"
     ]
    },
    {
     "data": {
      "text/latex": [
       "$\\displaystyle \\log(odd(y=1)) = + 0.099*Food - 0.286*Service + 0.113*Price$"
      ],
      "text/plain": [
       "<IPython.core.display.Math object>"
      ]
     },
     "metadata": {},
     "output_type": "display_data"
    },
    {
     "name": "stdout",
     "output_type": "stream",
     "text": [
      "For food, service, price, fold 3,| Accuracy_score is 0.7647058823529411\n",
      "\n",
      "\n"
     ]
    },
    {
     "data": {
      "text/latex": [
       "$\\displaystyle \\log(odd(y=1)) = + 0.109*Food - 0.306*Service + 0.117*Price$"
      ],
      "text/plain": [
       "<IPython.core.display.Math object>"
      ]
     },
     "metadata": {},
     "output_type": "display_data"
    },
    {
     "name": "stdout",
     "output_type": "stream",
     "text": [
      "For food, service, price, fold 4,| Accuracy_score is 0.8125\n",
      "\n",
      "\n"
     ]
    },
    {
     "data": {
      "text/latex": [
       "$\\displaystyle \\log(odd(y=1)) = + 0.103*Food - 0.276*Service + 0.111*Price$"
      ],
      "text/plain": [
       "<IPython.core.display.Math object>"
      ]
     },
     "metadata": {},
     "output_type": "display_data"
    },
    {
     "name": "stdout",
     "output_type": "stream",
     "text": [
      "For food, service, price, fold 5,| Accuracy_score is 0.875\n",
      "\n",
      "\n"
     ]
    },
    {
     "data": {
      "text/latex": [
       "$\\displaystyle \\log(odd(y=1)) = + 0.089*Food - 0.321*Service + 0.130*Price$"
      ],
      "text/plain": [
       "<IPython.core.display.Math object>"
      ]
     },
     "metadata": {},
     "output_type": "display_data"
    },
    {
     "name": "stdout",
     "output_type": "stream",
     "text": [
      "For food, service, price, fold 6,| Accuracy_score is 0.625\n",
      "\n",
      "\n"
     ]
    },
    {
     "data": {
      "text/latex": [
       "$\\displaystyle \\log(odd(y=1)) = + 0.087*Food - 0.255*Service + 0.111*Price$"
      ],
      "text/plain": [
       "<IPython.core.display.Math object>"
      ]
     },
     "metadata": {},
     "output_type": "display_data"
    },
    {
     "name": "stdout",
     "output_type": "stream",
     "text": [
      "For food, service, price, fold 7,| Accuracy_score is 0.75\n",
      "\n",
      "\n"
     ]
    },
    {
     "data": {
      "text/latex": [
       "$\\displaystyle \\log(odd(y=1)) = + 0.074*Food - 0.280*Service + 0.121*Price$"
      ],
      "text/plain": [
       "<IPython.core.display.Math object>"
      ]
     },
     "metadata": {},
     "output_type": "display_data"
    },
    {
     "name": "stdout",
     "output_type": "stream",
     "text": [
      "For food, service, price, fold 8,| Accuracy_score is 0.75\n",
      "\n",
      "\n"
     ]
    },
    {
     "data": {
      "text/latex": [
       "$\\displaystyle \\log(odd(y=1)) = + 0.085*Food - 0.266*Service + 0.113*Price$"
      ],
      "text/plain": [
       "<IPython.core.display.Math object>"
      ]
     },
     "metadata": {},
     "output_type": "display_data"
    },
    {
     "name": "stdout",
     "output_type": "stream",
     "text": [
      "For food, service, price, fold 9,| Accuracy_score is 0.875\n",
      "\n",
      "\n",
      "Mean Accuracy = 0.7628676470588236\n"
     ]
    }
   ],
   "source": [
    "X = data_full[['Food','Service','Price']]\n",
    "y = data_full[['InMichelin']]\n",
    "cv_results = cross_validate(LogisticRegression(), X, y, cv=10, return_estimator = True)\n",
    "accu = []\n",
    "for i in range(len(cv_results['estimator'])):\n",
    "    accu.append(cv_results['test_score'][i])\n",
    "    display(Math(coef_to_exp(cv_results['estimator'][i].coef_[0], ['Food','Service','Price']))),\n",
    "    print('For food, service, price, fold {},| Accuracy_score is {}'\n",
    "          .format(i,cv_results['test_score'][i]))\n",
    "    print('\\n')\n",
    "print('Mean Accuracy = {}'.format(np.array(accu).mean()))"
   ]
  },
  {
   "cell_type": "code",
   "execution_count": 30,
   "metadata": {},
   "outputs": [
    {
     "data": {
      "text/latex": [
       "$\\displaystyle \\log(odd(y=1)) = - 0.136*Food + 0.111*Price$"
      ],
      "text/plain": [
       "<IPython.core.display.Math object>"
      ]
     },
     "metadata": {},
     "output_type": "display_data"
    },
    {
     "name": "stdout",
     "output_type": "stream",
     "text": [
      "For food, price fold 0,| Accuracy_score is 0.6470588235294118\n",
      "\n",
      "\n"
     ]
    },
    {
     "data": {
      "text/latex": [
       "$\\displaystyle \\log(odd(y=1)) = - 0.114*Food + 0.092*Price$"
      ],
      "text/plain": [
       "<IPython.core.display.Math object>"
      ]
     },
     "metadata": {},
     "output_type": "display_data"
    },
    {
     "name": "stdout",
     "output_type": "stream",
     "text": [
      "For food, price fold 1,| Accuracy_score is 0.8235294117647058\n",
      "\n",
      "\n"
     ]
    },
    {
     "data": {
      "text/latex": [
       "$\\displaystyle \\log(odd(y=1)) = - 0.122*Food + 0.102*Price$"
      ],
      "text/plain": [
       "<IPython.core.display.Math object>"
      ]
     },
     "metadata": {},
     "output_type": "display_data"
    },
    {
     "name": "stdout",
     "output_type": "stream",
     "text": [
      "For food, price fold 2,| Accuracy_score is 0.7058823529411765\n",
      "\n",
      "\n"
     ]
    },
    {
     "data": {
      "text/latex": [
       "$\\displaystyle \\log(odd(y=1)) = - 0.093*Food + 0.085*Price$"
      ],
      "text/plain": [
       "<IPython.core.display.Math object>"
      ]
     },
     "metadata": {},
     "output_type": "display_data"
    },
    {
     "name": "stdout",
     "output_type": "stream",
     "text": [
      "For food, price fold 3,| Accuracy_score is 0.7647058823529411\n",
      "\n",
      "\n"
     ]
    },
    {
     "data": {
      "text/latex": [
       "$\\displaystyle \\log(odd(y=1)) = - 0.095*Food + 0.087*Price$"
      ],
      "text/plain": [
       "<IPython.core.display.Math object>"
      ]
     },
     "metadata": {},
     "output_type": "display_data"
    },
    {
     "name": "stdout",
     "output_type": "stream",
     "text": [
      "For food, price fold 4,| Accuracy_score is 0.8125\n",
      "\n",
      "\n"
     ]
    },
    {
     "data": {
      "text/latex": [
       "$\\displaystyle \\log(odd(y=1)) = - 0.085*Food + 0.085*Price$"
      ],
      "text/plain": [
       "<IPython.core.display.Math object>"
      ]
     },
     "metadata": {},
     "output_type": "display_data"
    },
    {
     "name": "stdout",
     "output_type": "stream",
     "text": [
      "For food, price fold 5,| Accuracy_score is 0.875\n",
      "\n",
      "\n"
     ]
    },
    {
     "data": {
      "text/latex": [
       "$\\displaystyle \\log(odd(y=1)) = - 0.129*Food + 0.101*Price$"
      ],
      "text/plain": [
       "<IPython.core.display.Math object>"
      ]
     },
     "metadata": {},
     "output_type": "display_data"
    },
    {
     "name": "stdout",
     "output_type": "stream",
     "text": [
      "For food, price fold 6,| Accuracy_score is 0.5\n",
      "\n",
      "\n"
     ]
    },
    {
     "data": {
      "text/latex": [
       "$\\displaystyle \\log(odd(y=1)) = - 0.088*Food + 0.087*Price$"
      ],
      "text/plain": [
       "<IPython.core.display.Math object>"
      ]
     },
     "metadata": {},
     "output_type": "display_data"
    },
    {
     "name": "stdout",
     "output_type": "stream",
     "text": [
      "For food, price fold 7,| Accuracy_score is 0.75\n",
      "\n",
      "\n"
     ]
    },
    {
     "data": {
      "text/latex": [
       "$\\displaystyle \\log(odd(y=1)) = - 0.121*Food + 0.096*Price$"
      ],
      "text/plain": [
       "<IPython.core.display.Math object>"
      ]
     },
     "metadata": {},
     "output_type": "display_data"
    },
    {
     "name": "stdout",
     "output_type": "stream",
     "text": [
      "For food, price fold 8,| Accuracy_score is 0.6875\n",
      "\n",
      "\n"
     ]
    },
    {
     "data": {
      "text/latex": [
       "$\\displaystyle \\log(odd(y=1)) = - 0.095*Food + 0.087*Price$"
      ],
      "text/plain": [
       "<IPython.core.display.Math object>"
      ]
     },
     "metadata": {},
     "output_type": "display_data"
    },
    {
     "name": "stdout",
     "output_type": "stream",
     "text": [
      "For food, price fold 9,| Accuracy_score is 0.9375\n",
      "\n",
      "\n",
      "Mean Accuracy = 0.7503676470588235\n"
     ]
    }
   ],
   "source": [
    "X = data_full[['Food','Price']]\n",
    "y = data_full[['InMichelin']]\n",
    "cv_results = cross_validate(LogisticRegression(), X, y, cv=10, return_estimator = True)\n",
    "accu = []\n",
    "for i in range(len(cv_results['estimator'])):\n",
    "    accu.append(cv_results['test_score'][i])\n",
    "    display(Math(coef_to_exp(cv_results['estimator'][i].coef_[0], ['Food','Price']))),\n",
    "    print('For food, price fold {},| Accuracy_score is {}'\n",
    "          .format(i,cv_results['test_score'][i]))\n",
    "    print('\\n')\n",
    "print('Mean Accuracy = {}'.format(np.array(accu).mean()))"
   ]
  }
 ],
 "metadata": {
  "kernelspec": {
   "display_name": "Python 3",
   "language": "python",
   "name": "python3"
  },
  "language_info": {
   "codemirror_mode": {
    "name": "ipython",
    "version": 3
   },
   "file_extension": ".py",
   "mimetype": "text/x-python",
   "name": "python",
   "nbconvert_exporter": "python",
   "pygments_lexer": "ipython3",
   "version": "3.6.7"
  }
 },
 "nbformat": 4,
 "nbformat_minor": 2
}
