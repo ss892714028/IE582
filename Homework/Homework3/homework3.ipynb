{
 "cells": [
  {
   "cell_type": "code",
   "execution_count": 1,
   "metadata": {},
   "outputs": [],
   "source": [
    "import numpy as np\n",
    "from TLU import TLU\n",
    "import pandas as pd"
   ]
  },
  {
   "cell_type": "code",
   "execution_count": 2,
   "metadata": {},
   "outputs": [],
   "source": [
    "and_data = pd.read_csv('./and.csv', header=None).to_numpy()\n",
    "or_data = pd.read_csv('./or.csv', header=None).to_numpy()\n",
    "xor_data = pd.read_csv('./xor.csv', header=None).to_numpy()"
   ]
  },
  {
   "cell_type": "code",
   "execution_count": 3,
   "metadata": {},
   "outputs": [
    {
     "name": "stdout",
     "output_type": "stream",
     "text": [
      "step: 0 | weights: [0. 0.] | theta: 0.5\n",
      "step: 1 | weights: [0. 0.] | theta: 0.5\n",
      "step: 2 | weights: [0. 0.] | theta: 0.5\n",
      "step: 3 | weights: [0.1 0.1] | theta: 0.4\n",
      "step: 4 | weights: [0.1 0.1] | theta: 0.4\n",
      "step: 5 | weights: [0.1 0.1] | theta: 0.4\n",
      "step: 6 | weights: [0.1 0.1] | theta: 0.4\n",
      "step: 7 | weights: [0.2 0.2] | theta: 0.3\n",
      "step: 8 | weights: [0.2 0.2] | theta: 0.3\n",
      "step: 9 | weights: [0.2 0.2] | theta: 0.3\n",
      "step: 10 | weights: [0.2 0.2] | theta: 0.3\n",
      "step: 11 | weights: [0.2 0.2] | theta: 0.3\n",
      "step: 12 | weights: [0.2 0.2] | theta: 0.3\n",
      "step: 13 | weights: [0.2 0.2] | theta: 0.3\n",
      "step: 14 | weights: [0.2 0.2] | theta: 0.3\n",
      "step: 15 | weights: [0.2 0.2] | theta: 0.3\n",
      "step: 16 | weights: [0.2 0.2] | theta: 0.3\n",
      "step: 17 | weights: [0.2 0.2] | theta: 0.3\n",
      "step: 18 | weights: [0.2 0.2] | theta: 0.3\n",
      "step: 19 | weights: [0.2 0.2] | theta: 0.3\n",
      "step: 20 | weights: [0.2 0.2] | theta: 0.3\n",
      "step: 21 | weights: [0.2 0.2] | theta: 0.3\n",
      "step: 22 | weights: [0.2 0.2] | theta: 0.3\n",
      "step: 23 | weights: [0.2 0.2] | theta: 0.3\n",
      "step: 24 | weights: [0.2 0.2] | theta: 0.3\n",
      "step: 25 | weights: [0.2 0.2] | theta: 0.3\n",
      "step: 26 | weights: [0.2 0.2] | theta: 0.3\n",
      "step: 27 | weights: [0.2 0.2] | theta: 0.3\n",
      "step: 28 | weights: [0.2 0.2] | theta: 0.3\n",
      "step: 29 | weights: [0.2 0.2] | theta: 0.3\n",
      "step: 30 | weights: [0.2 0.2] | theta: 0.3\n",
      "step: 31 | weights: [0.2 0.2] | theta: 0.3\n",
      "step: 32 | weights: [0.2 0.2] | theta: 0.3\n",
      "step: 33 | weights: [0.2 0.2] | theta: 0.3\n",
      "step: 34 | weights: [0.2 0.2] | theta: 0.3\n",
      "step: 35 | weights: [0.2 0.2] | theta: 0.3\n",
      "step: 36 | weights: [0.2 0.2] | theta: 0.3\n",
      "step: 37 | weights: [0.2 0.2] | theta: 0.3\n",
      "step: 38 | weights: [0.2 0.2] | theta: 0.3\n",
      "step: 39 | weights: [0.2 0.2] | theta: 0.3\n",
      "step: 40 | weights: [0.2 0.2] | theta: 0.3\n",
      "step: 41 | weights: [0.2 0.2] | theta: 0.3\n",
      "step: 42 | weights: [0.2 0.2] | theta: 0.3\n",
      "step: 43 | weights: [0.2 0.2] | theta: 0.3\n",
      "step: 44 | weights: [0.2 0.2] | theta: 0.3\n",
      "step: 45 | weights: [0.2 0.2] | theta: 0.3\n",
      "step: 46 | weights: [0.2 0.2] | theta: 0.3\n",
      "step: 47 | weights: [0.2 0.2] | theta: 0.3\n",
      "step: 48 | weights: [0.2 0.2] | theta: 0.3\n",
      "step: 49 | weights: [0.2 0.2] | theta: 0.3\n"
     ]
    }
   ],
   "source": [
    "model_and = TLU(and_data[:, :2], and_data[:, 2], alpha=0.1, epoch=1)\n",
    "w_and = model_and.fit()"
   ]
  },
  {
   "cell_type": "code",
   "execution_count": 4,
   "metadata": {},
   "outputs": [
    {
     "name": "stdout",
     "output_type": "stream",
     "text": [
      "step: 0 | weights: [0. 0.] | theta: 0.5\n",
      "step: 1 | weights: [0.  0.1] | theta: 0.4\n",
      "step: 2 | weights: [0.1 0.1] | theta: 0.3\n",
      "step: 3 | weights: [0.2 0.2] | theta: 0.2\n",
      "step: 4 | weights: [0.2 0.2] | theta: 0.2\n",
      "step: 5 | weights: [0.2 0.3] | theta: 0.1\n",
      "step: 6 | weights: [0.2 0.3] | theta: 0.1\n",
      "step: 7 | weights: [0.2 0.3] | theta: 0.1\n",
      "step: 8 | weights: [0.2 0.3] | theta: 0.1\n",
      "step: 9 | weights: [0.2 0.3] | theta: 0.1\n",
      "step: 10 | weights: [0.2 0.3] | theta: 0.1\n",
      "step: 11 | weights: [0.2 0.3] | theta: 0.1\n",
      "step: 12 | weights: [0.2 0.3] | theta: 0.1\n",
      "step: 13 | weights: [0.2 0.3] | theta: 0.1\n",
      "step: 14 | weights: [0.2 0.3] | theta: 0.1\n",
      "step: 15 | weights: [0.2 0.3] | theta: 0.1\n",
      "step: 16 | weights: [0.2 0.3] | theta: 0.1\n",
      "step: 17 | weights: [0.2 0.3] | theta: 0.1\n",
      "step: 18 | weights: [0.2 0.3] | theta: 0.1\n",
      "step: 19 | weights: [0.2 0.3] | theta: 0.1\n",
      "step: 20 | weights: [0.2 0.3] | theta: 0.1\n",
      "step: 21 | weights: [0.2 0.3] | theta: 0.1\n",
      "step: 22 | weights: [0.2 0.3] | theta: 0.1\n",
      "step: 23 | weights: [0.2 0.3] | theta: 0.1\n",
      "step: 24 | weights: [0.2 0.3] | theta: 0.1\n",
      "step: 25 | weights: [0.2 0.3] | theta: 0.1\n",
      "step: 26 | weights: [0.2 0.3] | theta: 0.1\n",
      "step: 27 | weights: [0.2 0.3] | theta: 0.1\n",
      "step: 28 | weights: [0.2 0.3] | theta: 0.1\n",
      "step: 29 | weights: [0.2 0.3] | theta: 0.1\n",
      "step: 30 | weights: [0.2 0.3] | theta: 0.1\n",
      "step: 31 | weights: [0.2 0.3] | theta: 0.1\n",
      "step: 32 | weights: [0.2 0.3] | theta: 0.1\n",
      "step: 33 | weights: [0.2 0.3] | theta: 0.1\n",
      "step: 34 | weights: [0.2 0.3] | theta: 0.1\n",
      "step: 35 | weights: [0.2 0.3] | theta: 0.1\n",
      "step: 36 | weights: [0.2 0.3] | theta: 0.1\n",
      "step: 37 | weights: [0.2 0.3] | theta: 0.1\n",
      "step: 38 | weights: [0.2 0.3] | theta: 0.1\n",
      "step: 39 | weights: [0.2 0.3] | theta: 0.1\n",
      "step: 40 | weights: [0.2 0.3] | theta: 0.1\n",
      "step: 41 | weights: [0.2 0.3] | theta: 0.1\n",
      "step: 42 | weights: [0.2 0.3] | theta: 0.1\n",
      "step: 43 | weights: [0.2 0.3] | theta: 0.1\n",
      "step: 44 | weights: [0.2 0.3] | theta: 0.1\n",
      "step: 45 | weights: [0.2 0.3] | theta: 0.1\n",
      "step: 46 | weights: [0.2 0.3] | theta: 0.1\n",
      "step: 47 | weights: [0.2 0.3] | theta: 0.1\n",
      "step: 48 | weights: [0.2 0.3] | theta: 0.1\n",
      "step: 49 | weights: [0.2 0.3] | theta: 0.1\n"
     ]
    }
   ],
   "source": [
    "model_or = TLU(or_data[:, :2], or_data[:, 2], alpha=0.1, epoch=1)\n",
    "w_or = model_or.fit()"
   ]
  },
  {
   "cell_type": "code",
   "execution_count": 5,
   "metadata": {},
   "outputs": [
    {
     "name": "stdout",
     "output_type": "stream",
     "text": [
      "step: 0 | weights: [0. 0.] | theta: 0.5\n",
      "step: 1 | weights: [0.  0.1] | theta: 0.4\n",
      "step: 2 | weights: [0.1 0.1] | theta: 0.3\n",
      "step: 3 | weights: [0.1 0.1] | theta: 0.3\n",
      "step: 4 | weights: [0.1 0.1] | theta: 0.3\n",
      "step: 5 | weights: [0.1 0.2] | theta: 0.2\n",
      "step: 6 | weights: [0.2 0.2] | theta: 0.1\n",
      "step: 7 | weights: [0.1 0.1] | theta: 0.2\n",
      "step: 8 | weights: [0.1 0.1] | theta: 0.2\n",
      "step: 9 | weights: [0.1 0.2] | theta: 0.1\n",
      "step: 10 | weights: [0.2 0.2] | theta: 0.0\n",
      "step: 11 | weights: [0.1 0.1] | theta: 0.1\n",
      "step: 12 | weights: [0.1 0.1] | theta: 0.1\n",
      "step: 13 | weights: [0.1 0.2] | theta: 0.0\n",
      "step: 14 | weights: [0.1 0.2] | theta: 0.0\n",
      "step: 15 | weights: [0.  0.1] | theta: 0.1\n",
      "step: 16 | weights: [0.  0.1] | theta: 0.1\n",
      "step: 17 | weights: [0.  0.2] | theta: 0.0\n",
      "step: 18 | weights: [0.1 0.2] | theta: -0.1\n",
      "step: 19 | weights: [0.  0.1] | theta: 0.0\n",
      "step: 20 | weights: [0.  0.1] | theta: 0.0\n",
      "step: 21 | weights: [0.  0.1] | theta: 0.0\n",
      "step: 22 | weights: [0.1 0.1] | theta: -0.1\n",
      "step: 23 | weights: [0. 0.] | theta: 0.0\n",
      "step: 24 | weights: [0. 0.] | theta: 0.0\n",
      "step: 25 | weights: [0.  0.1] | theta: -0.1\n",
      "step: 26 | weights: [0.  0.1] | theta: -0.1\n",
      "step: 27 | weights: [-0.1  0. ] | theta: 0.0\n",
      "step: 28 | weights: [-0.1  0. ] | theta: 0.0\n",
      "step: 29 | weights: [-0.1  0.1] | theta: -0.1\n",
      "step: 30 | weights: [0.  0.1] | theta: -0.2\n",
      "step: 31 | weights: [-0.1  0. ] | theta: -0.1\n",
      "step: 32 | weights: [-0.1  0. ] | theta: 0.0\n",
      "step: 33 | weights: [-0.1  0.1] | theta: -0.1\n",
      "step: 34 | weights: [0.  0.1] | theta: -0.2\n",
      "step: 35 | weights: [-0.1  0. ] | theta: -0.1\n",
      "step: 36 | weights: [-0.1  0. ] | theta: 0.0\n",
      "step: 37 | weights: [-0.1  0.1] | theta: -0.1\n",
      "step: 38 | weights: [0.  0.1] | theta: -0.2\n",
      "step: 39 | weights: [-0.1  0. ] | theta: -0.1\n",
      "step: 40 | weights: [-0.1  0. ] | theta: 0.0\n",
      "step: 41 | weights: [-0.1  0.1] | theta: -0.1\n",
      "step: 42 | weights: [0.  0.1] | theta: -0.2\n",
      "step: 43 | weights: [-0.1  0. ] | theta: -0.1\n",
      "step: 44 | weights: [-0.1  0. ] | theta: 0.0\n",
      "step: 45 | weights: [-0.1  0.1] | theta: -0.1\n",
      "step: 46 | weights: [0.  0.1] | theta: -0.2\n",
      "step: 47 | weights: [-0.1  0. ] | theta: -0.1\n",
      "step: 48 | weights: [-0.1  0. ] | theta: 0.0\n",
      "step: 49 | weights: [-0.1  0.1] | theta: -0.1\n"
     ]
    }
   ],
   "source": [
    "model_xor = TLU(xor_data[:, :2], xor_data[:, 2], alpha=0.1, epoch=1)\n",
    "w_xor = model_xor.fit()"
   ]
  },
  {
   "cell_type": "code",
   "execution_count": 6,
   "metadata": {},
   "outputs": [
    {
     "data": {
      "text/plain": [
       "1.0"
      ]
     },
     "execution_count": 6,
     "metadata": {},
     "output_type": "execute_result"
    }
   ],
   "source": [
    "model_and.test(w_and)"
   ]
  },
  {
   "cell_type": "code",
   "execution_count": 7,
   "metadata": {},
   "outputs": [
    {
     "data": {
      "text/plain": [
       "1.0"
      ]
     },
     "execution_count": 7,
     "metadata": {},
     "output_type": "execute_result"
    }
   ],
   "source": [
    "model_or.test(w_or)"
   ]
  },
  {
   "cell_type": "code",
   "execution_count": 8,
   "metadata": {},
   "outputs": [
    {
     "data": {
      "text/plain": [
       "0.26"
      ]
     },
     "execution_count": 8,
     "metadata": {},
     "output_type": "execute_result"
    }
   ],
   "source": [
    "model_xor.test(w_xor)"
   ]
  },
  {
   "cell_type": "code",
   "execution_count": null,
   "metadata": {},
   "outputs": [],
   "source": []
  }
 ],
 "metadata": {
  "kernelspec": {
   "display_name": "Python 3",
   "language": "python",
   "name": "python3"
  },
  "language_info": {
   "codemirror_mode": {
    "name": "ipython",
    "version": 3
   },
   "file_extension": ".py",
   "mimetype": "text/x-python",
   "name": "python",
   "nbconvert_exporter": "python",
   "pygments_lexer": "ipython3",
   "version": "3.6.5"
  }
 },
 "nbformat": 4,
 "nbformat_minor": 2
}
