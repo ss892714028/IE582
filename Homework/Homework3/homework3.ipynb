{
 "cells": [
  {
   "cell_type": "code",
   "execution_count": 2,
   "metadata": {},
   "outputs": [],
   "source": [
    "import numpy as np\n",
    "from TLU import TLU\n",
    "import pandas as pd"
   ]
  },
  {
   "cell_type": "code",
   "execution_count": 3,
   "metadata": {},
   "outputs": [],
   "source": [
    "# Read Data\n",
    "and_data = pd.read_csv('./and.csv', header=None).to_numpy()\n",
    "or_data = pd.read_csv('./or.csv', header=None).to_numpy()\n",
    "xor_data = pd.read_csv('./xor.csv', header=None).to_numpy()"
   ]
  },
  {
   "cell_type": "markdown",
   "metadata": {},
   "source": [
    "## Question 1"
   ]
  },
  {
   "cell_type": "code",
   "execution_count": 3,
   "metadata": {},
   "outputs": [
    {
     "name": "stdout",
     "output_type": "stream",
     "text": [
      "step: 0 | weights: [0. 0.] | theta: 0.5\n",
      "step: 1 | weights: [0. 0.] | theta: 0.5\n",
      "step: 2 | weights: [0. 0.] | theta: 0.5\n",
      "step: 3 | weights: [0.1 0.1] | theta: 0.4\n",
      "step: 4 | weights: [0.1 0.1] | theta: 0.4\n",
      "step: 5 | weights: [0.1 0.1] | theta: 0.4\n",
      "step: 6 | weights: [0.1 0.1] | theta: 0.4\n",
      "step: 7 | weights: [0.2 0.2] | theta: 0.3\n",
      "step: 8 | weights: [0.2 0.2] | theta: 0.3\n",
      "step: 9 | weights: [0.2 0.2] | theta: 0.3\n",
      "step: 10 | weights: [0.2 0.2] | theta: 0.3\n",
      "step: 11 | weights: [0.2 0.2] | theta: 0.3\n",
      "step: 12 | weights: [0.2 0.2] | theta: 0.3\n",
      "step: 13 | weights: [0.2 0.2] | theta: 0.3\n",
      "step: 14 | weights: [0.2 0.2] | theta: 0.3\n",
      "step: 15 | weights: [0.2 0.2] | theta: 0.3\n",
      "step: 16 | weights: [0.2 0.2] | theta: 0.3\n",
      "step: 17 | weights: [0.2 0.2] | theta: 0.3\n",
      "step: 18 | weights: [0.2 0.2] | theta: 0.3\n",
      "step: 19 | weights: [0.2 0.2] | theta: 0.3\n",
      "step: 20 | weights: [0.2 0.2] | theta: 0.3\n",
      "step: 21 | weights: [0.2 0.2] | theta: 0.3\n",
      "step: 22 | weights: [0.2 0.2] | theta: 0.3\n",
      "step: 23 | weights: [0.2 0.2] | theta: 0.3\n",
      "step: 24 | weights: [0.2 0.2] | theta: 0.3\n",
      "step: 25 | weights: [0.2 0.2] | theta: 0.3\n",
      "step: 26 | weights: [0.2 0.2] | theta: 0.3\n",
      "step: 27 | weights: [0.2 0.2] | theta: 0.3\n",
      "step: 28 | weights: [0.2 0.2] | theta: 0.3\n",
      "step: 29 | weights: [0.2 0.2] | theta: 0.3\n",
      "step: 30 | weights: [0.2 0.2] | theta: 0.3\n",
      "step: 31 | weights: [0.2 0.2] | theta: 0.3\n",
      "step: 32 | weights: [0.2 0.2] | theta: 0.3\n",
      "step: 33 | weights: [0.2 0.2] | theta: 0.3\n",
      "step: 34 | weights: [0.2 0.2] | theta: 0.3\n",
      "step: 35 | weights: [0.2 0.2] | theta: 0.3\n",
      "step: 36 | weights: [0.2 0.2] | theta: 0.3\n",
      "step: 37 | weights: [0.2 0.2] | theta: 0.3\n",
      "step: 38 | weights: [0.2 0.2] | theta: 0.3\n",
      "step: 39 | weights: [0.2 0.2] | theta: 0.3\n",
      "step: 40 | weights: [0.2 0.2] | theta: 0.3\n",
      "step: 41 | weights: [0.2 0.2] | theta: 0.3\n",
      "step: 42 | weights: [0.2 0.2] | theta: 0.3\n",
      "step: 43 | weights: [0.2 0.2] | theta: 0.3\n",
      "step: 44 | weights: [0.2 0.2] | theta: 0.3\n",
      "step: 45 | weights: [0.2 0.2] | theta: 0.3\n",
      "step: 46 | weights: [0.2 0.2] | theta: 0.3\n",
      "step: 47 | weights: [0.2 0.2] | theta: 0.3\n",
      "step: 48 | weights: [0.2 0.2] | theta: 0.3\n",
      "step: 49 | weights: [0.2 0.2] | theta: 0.3\n"
     ]
    }
   ],
   "source": [
    "model_and = TLU(and_data[:, :2], and_data[:, 2], alpha=0.1, epoch=1)\n",
    "w_and = model_and.fit()"
   ]
  },
  {
   "cell_type": "code",
   "execution_count": 4,
   "metadata": {},
   "outputs": [
    {
     "name": "stdout",
     "output_type": "stream",
     "text": [
      "step: 0 | weights: [0. 0.] | theta: 0.5\n",
      "step: 1 | weights: [0.  0.1] | theta: 0.4\n",
      "step: 2 | weights: [0.1 0.1] | theta: 0.3\n",
      "step: 3 | weights: [0.2 0.2] | theta: 0.2\n",
      "step: 4 | weights: [0.2 0.2] | theta: 0.2\n",
      "step: 5 | weights: [0.2 0.3] | theta: 0.1\n",
      "step: 6 | weights: [0.2 0.3] | theta: 0.1\n",
      "step: 7 | weights: [0.2 0.3] | theta: 0.1\n",
      "step: 8 | weights: [0.2 0.3] | theta: 0.1\n",
      "step: 9 | weights: [0.2 0.3] | theta: 0.1\n",
      "step: 10 | weights: [0.2 0.3] | theta: 0.1\n",
      "step: 11 | weights: [0.2 0.3] | theta: 0.1\n",
      "step: 12 | weights: [0.2 0.3] | theta: 0.1\n",
      "step: 13 | weights: [0.2 0.3] | theta: 0.1\n",
      "step: 14 | weights: [0.2 0.3] | theta: 0.1\n",
      "step: 15 | weights: [0.2 0.3] | theta: 0.1\n",
      "step: 16 | weights: [0.2 0.3] | theta: 0.1\n",
      "step: 17 | weights: [0.2 0.3] | theta: 0.1\n",
      "step: 18 | weights: [0.2 0.3] | theta: 0.1\n",
      "step: 19 | weights: [0.2 0.3] | theta: 0.1\n",
      "step: 20 | weights: [0.2 0.3] | theta: 0.1\n",
      "step: 21 | weights: [0.2 0.3] | theta: 0.1\n",
      "step: 22 | weights: [0.2 0.3] | theta: 0.1\n",
      "step: 23 | weights: [0.2 0.3] | theta: 0.1\n",
      "step: 24 | weights: [0.2 0.3] | theta: 0.1\n",
      "step: 25 | weights: [0.2 0.3] | theta: 0.1\n",
      "step: 26 | weights: [0.2 0.3] | theta: 0.1\n",
      "step: 27 | weights: [0.2 0.3] | theta: 0.1\n",
      "step: 28 | weights: [0.2 0.3] | theta: 0.1\n",
      "step: 29 | weights: [0.2 0.3] | theta: 0.1\n",
      "step: 30 | weights: [0.2 0.3] | theta: 0.1\n",
      "step: 31 | weights: [0.2 0.3] | theta: 0.1\n",
      "step: 32 | weights: [0.2 0.3] | theta: 0.1\n",
      "step: 33 | weights: [0.2 0.3] | theta: 0.1\n",
      "step: 34 | weights: [0.2 0.3] | theta: 0.1\n",
      "step: 35 | weights: [0.2 0.3] | theta: 0.1\n",
      "step: 36 | weights: [0.2 0.3] | theta: 0.1\n",
      "step: 37 | weights: [0.2 0.3] | theta: 0.1\n",
      "step: 38 | weights: [0.2 0.3] | theta: 0.1\n",
      "step: 39 | weights: [0.2 0.3] | theta: 0.1\n",
      "step: 40 | weights: [0.2 0.3] | theta: 0.1\n",
      "step: 41 | weights: [0.2 0.3] | theta: 0.1\n",
      "step: 42 | weights: [0.2 0.3] | theta: 0.1\n",
      "step: 43 | weights: [0.2 0.3] | theta: 0.1\n",
      "step: 44 | weights: [0.2 0.3] | theta: 0.1\n",
      "step: 45 | weights: [0.2 0.3] | theta: 0.1\n",
      "step: 46 | weights: [0.2 0.3] | theta: 0.1\n",
      "step: 47 | weights: [0.2 0.3] | theta: 0.1\n",
      "step: 48 | weights: [0.2 0.3] | theta: 0.1\n",
      "step: 49 | weights: [0.2 0.3] | theta: 0.1\n"
     ]
    }
   ],
   "source": [
    "model_or = TLU(or_data[:, :2], or_data[:, 2], alpha=0.1, epoch=1)\n",
    "w_or = model_or.fit()"
   ]
  },
  {
   "cell_type": "code",
   "execution_count": 5,
   "metadata": {
    "scrolled": false
   },
   "outputs": [
    {
     "name": "stdout",
     "output_type": "stream",
     "text": [
      "step: 0 | weights: [0. 0.] | theta: 0.5\n",
      "step: 1 | weights: [0.  0.1] | theta: 0.4\n",
      "step: 2 | weights: [0.1 0.1] | theta: 0.3\n",
      "step: 3 | weights: [0.1 0.1] | theta: 0.3\n",
      "step: 4 | weights: [0.1 0.1] | theta: 0.3\n",
      "step: 5 | weights: [0.1 0.2] | theta: 0.2\n",
      "step: 6 | weights: [0.2 0.2] | theta: 0.1\n",
      "step: 7 | weights: [0.1 0.1] | theta: 0.2\n",
      "step: 8 | weights: [0.1 0.1] | theta: 0.2\n",
      "step: 9 | weights: [0.1 0.2] | theta: 0.1\n",
      "step: 10 | weights: [0.2 0.2] | theta: 0.0\n",
      "step: 11 | weights: [0.1 0.1] | theta: 0.1\n",
      "step: 12 | weights: [0.1 0.1] | theta: 0.1\n",
      "step: 13 | weights: [0.1 0.2] | theta: 0.0\n",
      "step: 14 | weights: [0.1 0.2] | theta: 0.0\n",
      "step: 15 | weights: [0.  0.1] | theta: 0.1\n",
      "step: 16 | weights: [0.  0.1] | theta: 0.1\n",
      "step: 17 | weights: [0.  0.2] | theta: 0.0\n",
      "step: 18 | weights: [0.1 0.2] | theta: -0.1\n",
      "step: 19 | weights: [0.  0.1] | theta: 0.0\n",
      "step: 20 | weights: [0.  0.1] | theta: 0.0\n",
      "step: 21 | weights: [0.  0.1] | theta: 0.0\n",
      "step: 22 | weights: [0.1 0.1] | theta: -0.1\n",
      "step: 23 | weights: [0. 0.] | theta: 0.0\n",
      "step: 24 | weights: [0. 0.] | theta: 0.0\n",
      "step: 25 | weights: [0.  0.1] | theta: -0.1\n",
      "step: 26 | weights: [0.  0.1] | theta: -0.1\n",
      "step: 27 | weights: [-0.1  0. ] | theta: 0.0\n",
      "step: 28 | weights: [-0.1  0. ] | theta: 0.0\n",
      "step: 29 | weights: [-0.1  0.1] | theta: -0.1\n",
      "step: 30 | weights: [0.  0.1] | theta: -0.2\n",
      "step: 31 | weights: [-0.1  0. ] | theta: -0.1\n",
      "step: 32 | weights: [-0.1  0. ] | theta: 0.0\n",
      "step: 33 | weights: [-0.1  0.1] | theta: -0.1\n",
      "step: 34 | weights: [0.  0.1] | theta: -0.2\n",
      "step: 35 | weights: [-0.1  0. ] | theta: -0.1\n",
      "step: 36 | weights: [-0.1  0. ] | theta: 0.0\n",
      "step: 37 | weights: [-0.1  0.1] | theta: -0.1\n",
      "step: 38 | weights: [0.  0.1] | theta: -0.2\n",
      "step: 39 | weights: [-0.1  0. ] | theta: -0.1\n",
      "step: 40 | weights: [-0.1  0. ] | theta: 0.0\n",
      "step: 41 | weights: [-0.1  0.1] | theta: -0.1\n",
      "step: 42 | weights: [0.  0.1] | theta: -0.2\n",
      "step: 43 | weights: [-0.1  0. ] | theta: -0.1\n",
      "step: 44 | weights: [-0.1  0. ] | theta: 0.0\n",
      "step: 45 | weights: [-0.1  0.1] | theta: -0.1\n",
      "step: 46 | weights: [0.  0.1] | theta: -0.2\n",
      "step: 47 | weights: [-0.1  0. ] | theta: -0.1\n",
      "step: 48 | weights: [-0.1  0. ] | theta: 0.0\n",
      "step: 49 | weights: [-0.1  0.1] | theta: -0.1\n"
     ]
    }
   ],
   "source": [
    "model_xor = TLU(xor_data[:, :2], xor_data[:, 2], alpha=0.1, epoch=1)\n",
    "w_xor = model_xor.fit()"
   ]
  },
  {
   "cell_type": "code",
   "execution_count": 6,
   "metadata": {},
   "outputs": [
    {
     "data": {
      "text/plain": [
       "1.0"
      ]
     },
     "execution_count": 6,
     "metadata": {},
     "output_type": "execute_result"
    }
   ],
   "source": [
    "# accuracy for and gate\n",
    "model_and.test(w_and)"
   ]
  },
  {
   "cell_type": "code",
   "execution_count": 7,
   "metadata": {},
   "outputs": [
    {
     "data": {
      "text/plain": [
       "1.0"
      ]
     },
     "execution_count": 7,
     "metadata": {},
     "output_type": "execute_result"
    }
   ],
   "source": [
    "# accuracy for or gate\n",
    "model_or.test(w_or)"
   ]
  },
  {
   "cell_type": "code",
   "execution_count": 8,
   "metadata": {},
   "outputs": [
    {
     "data": {
      "text/plain": [
       "0.26"
      ]
     },
     "execution_count": 8,
     "metadata": {},
     "output_type": "execute_result"
    }
   ],
   "source": [
    "# accuracy for xor gate\n",
    "model_xor.test(w_xor)"
   ]
  },
  {
   "cell_type": "markdown",
   "metadata": {},
   "source": [
    "For and gate and or gate, it is easy to see that the model converges. After a few steps, weights stays constant, which means that the model does not make any wrong prediction of the label.  \n",
    "The xor gate does not converge with TLU since TLU is a linear approximator, but there exists no linear hyperplane that can separate the two classes of xor. "
   ]
  },
  {
   "cell_type": "markdown",
   "metadata": {},
   "source": [
    "## Question 2"
   ]
  },
  {
   "cell_type": "code",
   "execution_count": 5,
   "metadata": {},
   "outputs": [
    {
     "data": {
      "image/png": "[encoded data removed]",
      "text/plain": [
       "<Figure size 576x576 with 1 Axes>"
      ]
     },
     "metadata": {
      "needs_background": "light"
     },
     "output_type": "display_data"
    }
   ],
   "source": [
    "from sklearn.neural_network import MLPClassifier\n",
    "from sklearn import model_selection\n",
    "import pandas as pd\n",
    "import numpy as np\n",
    "import matplotlib.pyplot as plt\n",
    "def plot_decision_boundary(pred_func,X,y):\n",
    "    x_min, x_max = X[:, 0].min() - 0.15, X[:, 0].max() + 0.15\n",
    "    y_min, y_max = X[:, 1].min() - 0.15, X[:, 1].max() + 0.15\n",
    "    xx, yy = np.meshgrid(np.arange(x_min, x_max, 0.01), np.arange(y_min, y_max, 0.01))\n",
    "    Z = pred_func(np.c_[xx.ravel(), yy.ravel()])\n",
    "    Z = Z.reshape(xx.shape)\n",
    "    \n",
    "    plt.contourf(xx, yy, Z, cmap=plt.cm.Spectral)\n",
    "    plt.scatter(X[:, 0], X[:, 1], c=y,s=100)\n",
    "    plt.show()\n",
    "x,y = xor_data[:, :2], xor_data[:, 2]    \n",
    "clf = MLPClassifier(solver='lbfgs',hidden_layer_sizes=(32),\\\n",
    "                    activation=\"logistic\", random_state=1,max_iter=10000)\n",
    "clf.fit(x[:4], y[:4])\n",
    "plt.figure(figsize=(8,8))\n",
    "plot_decision_boundary(lambda x: clf.predict(x), x, y)"
   ]
  },
  {
   "cell_type": "markdown",
   "metadata": {},
   "source": [
    "## Appendix"
   ]
  },
  {
   "cell_type": "code",
   "execution_count": null,
   "metadata": {},
   "outputs": [],
   "source": [
    "import numpy as np\n",
    "\n",
    "\n",
    "class TLU:\n",
    "    def __init__(self, x, y, alpha, epoch, theta=0.5):\n",
    "        self.x = x\n",
    "        self.y = y\n",
    "        self.feature_dim = self.x.shape[1]\n",
    "        self.theta = theta\n",
    "        self.alpha = alpha\n",
    "        self.epoch = epoch\n",
    "\n",
    "    @staticmethod\n",
    "    def add_feature(d):\n",
    "        data = []\n",
    "        for index, value in enumerate(d):\n",
    "            data.append(np.append(d[index], -1))\n",
    "        return np.array(data)\n",
    "\n",
    "    def fit(self):\n",
    "        self.x = self.add_feature(self.x)\n",
    "        x = self.x\n",
    "        y = self.y\n",
    "        w = np.zeros(self.x.shape[1])\n",
    "        w[-1] = self.theta\n",
    "        for epochs in range(self.epoch):\n",
    "            for i in range(x.shape[0]):\n",
    "                sample = x[i]\n",
    "                y_hat = self.predict(sample, w)\n",
    "                w += self.alpha * (y[i] - y_hat) * sample\n",
    "                print('step: {} | weights: {} | theta: {}'.format(i, w[:-1], round(w[-1], 3)))\n",
    "        return w\n",
    "\n",
    "    @staticmethod\n",
    "    def predict(x, w):\n",
    "        dot = np.dot(w, x)\n",
    "        if dot >= 0:\n",
    "            y_hat = 1\n",
    "        else:\n",
    "            y_hat = 0\n",
    "        return y_hat\n",
    "\n",
    "    def test(self, w):\n",
    "        x = self.x\n",
    "        y = self.y\n",
    "        error = 0\n",
    "        for i in range(self.x.shape[0]):\n",
    "            y_hat = self.predict(x[i], w)\n",
    "            if y_hat != y[i]:\n",
    "                error += 1\n",
    "        accuracy = 1-error/len(y)\n",
    "        return accuracy\n"
   ]
  }
 ],
 "metadata": {
  "kernelspec": {
   "display_name": "Python 3",
   "language": "python",
   "name": "python3"
  },
  "language_info": {
   "codemirror_mode": {
    "name": "ipython",
    "version": 3
   },
   "file_extension": ".py",
   "mimetype": "text/x-python",
   "name": "python",
   "nbconvert_exporter": "python",
   "pygments_lexer": "ipython3",
   "version": "3.6.7"
  }
 },
 "nbformat": 4,
 "nbformat_minor": 2
}
