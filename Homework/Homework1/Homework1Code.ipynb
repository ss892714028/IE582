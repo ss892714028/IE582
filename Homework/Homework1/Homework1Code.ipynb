{
 "cells": [
  {
   "cell_type": "code",
   "execution_count": 89,
   "metadata": {},
   "outputs": [],
   "source": [
    "import pandas as pd\n",
    "import matplotlib.pyplot as plt\n",
    "import statsmodels.api as sm\n",
    "import numpy as np"
   ]
  },
  {
   "cell_type": "code",
   "execution_count": 30,
   "metadata": {},
   "outputs": [],
   "source": [
    "# read data\n",
    "data = pd.read_csv('HousingData.csv')\n",
    "target = 'MEDV'"
   ]
  },
  {
   "cell_type": "code",
   "execution_count": 3,
   "metadata": {},
   "outputs": [
    {
     "data": {
      "text/html": [
       "<div>\n",
       "<style scoped>\n",
       "    .dataframe tbody tr th:only-of-type {\n",
       "        vertical-align: middle;\n",
       "    }\n",
       "\n",
       "    .dataframe tbody tr th {\n",
       "        vertical-align: top;\n",
       "    }\n",
       "\n",
       "    .dataframe thead th {\n",
       "        text-align: right;\n",
       "    }\n",
       "</style>\n",
       "<table border=\"1\" class=\"dataframe\">\n",
       "  <thead>\n",
       "    <tr style=\"text-align: right;\">\n",
       "      <th></th>\n",
       "      <th>CRIM</th>\n",
       "      <th>ZN</th>\n",
       "      <th>INDUS</th>\n",
       "      <th>CHAS</th>\n",
       "      <th>NOX</th>\n",
       "      <th>RM</th>\n",
       "      <th>AGE</th>\n",
       "      <th>DIS</th>\n",
       "      <th>RAD</th>\n",
       "      <th>TAX</th>\n",
       "      <th>PTRATIO</th>\n",
       "      <th>B</th>\n",
       "      <th>LSTAT</th>\n",
       "      <th>MEDV</th>\n",
       "    </tr>\n",
       "  </thead>\n",
       "  <tbody>\n",
       "    <tr>\n",
       "      <th>0</th>\n",
       "      <td>0.00632</td>\n",
       "      <td>18.0</td>\n",
       "      <td>2.31</td>\n",
       "      <td>0.0</td>\n",
       "      <td>0.538</td>\n",
       "      <td>6.575</td>\n",
       "      <td>65.2</td>\n",
       "      <td>4.0900</td>\n",
       "      <td>1</td>\n",
       "      <td>296</td>\n",
       "      <td>15.3</td>\n",
       "      <td>396.90</td>\n",
       "      <td>4.98</td>\n",
       "      <td>24.0</td>\n",
       "    </tr>\n",
       "    <tr>\n",
       "      <th>1</th>\n",
       "      <td>0.02731</td>\n",
       "      <td>0.0</td>\n",
       "      <td>7.07</td>\n",
       "      <td>0.0</td>\n",
       "      <td>0.469</td>\n",
       "      <td>6.421</td>\n",
       "      <td>78.9</td>\n",
       "      <td>4.9671</td>\n",
       "      <td>2</td>\n",
       "      <td>242</td>\n",
       "      <td>17.8</td>\n",
       "      <td>396.90</td>\n",
       "      <td>9.14</td>\n",
       "      <td>21.6</td>\n",
       "    </tr>\n",
       "    <tr>\n",
       "      <th>2</th>\n",
       "      <td>0.02729</td>\n",
       "      <td>0.0</td>\n",
       "      <td>7.07</td>\n",
       "      <td>0.0</td>\n",
       "      <td>0.469</td>\n",
       "      <td>7.185</td>\n",
       "      <td>61.1</td>\n",
       "      <td>4.9671</td>\n",
       "      <td>2</td>\n",
       "      <td>242</td>\n",
       "      <td>17.8</td>\n",
       "      <td>392.83</td>\n",
       "      <td>4.03</td>\n",
       "      <td>34.7</td>\n",
       "    </tr>\n",
       "    <tr>\n",
       "      <th>3</th>\n",
       "      <td>0.03237</td>\n",
       "      <td>0.0</td>\n",
       "      <td>2.18</td>\n",
       "      <td>0.0</td>\n",
       "      <td>0.458</td>\n",
       "      <td>6.998</td>\n",
       "      <td>45.8</td>\n",
       "      <td>6.0622</td>\n",
       "      <td>3</td>\n",
       "      <td>222</td>\n",
       "      <td>18.7</td>\n",
       "      <td>394.63</td>\n",
       "      <td>2.94</td>\n",
       "      <td>33.4</td>\n",
       "    </tr>\n",
       "    <tr>\n",
       "      <th>4</th>\n",
       "      <td>0.06905</td>\n",
       "      <td>0.0</td>\n",
       "      <td>2.18</td>\n",
       "      <td>0.0</td>\n",
       "      <td>0.458</td>\n",
       "      <td>7.147</td>\n",
       "      <td>54.2</td>\n",
       "      <td>6.0622</td>\n",
       "      <td>3</td>\n",
       "      <td>222</td>\n",
       "      <td>18.7</td>\n",
       "      <td>396.90</td>\n",
       "      <td>NaN</td>\n",
       "      <td>36.2</td>\n",
       "    </tr>\n",
       "  </tbody>\n",
       "</table>\n",
       "</div>"
      ],
      "text/plain": [
       "      CRIM    ZN  INDUS  CHAS    NOX     RM   AGE     DIS  RAD  TAX  PTRATIO  \\\n",
       "0  0.00632  18.0   2.31   0.0  0.538  6.575  65.2  4.0900    1  296     15.3   \n",
       "1  0.02731   0.0   7.07   0.0  0.469  6.421  78.9  4.9671    2  242     17.8   \n",
       "2  0.02729   0.0   7.07   0.0  0.469  7.185  61.1  4.9671    2  242     17.8   \n",
       "3  0.03237   0.0   2.18   0.0  0.458  6.998  45.8  6.0622    3  222     18.7   \n",
       "4  0.06905   0.0   2.18   0.0  0.458  7.147  54.2  6.0622    3  222     18.7   \n",
       "\n",
       "        B  LSTAT  MEDV  \n",
       "0  396.90   4.98  24.0  \n",
       "1  396.90   9.14  21.6  \n",
       "2  392.83   4.03  34.7  \n",
       "3  394.63   2.94  33.4  \n",
       "4  396.90    NaN  36.2  "
      ]
     },
     "execution_count": 3,
     "metadata": {},
     "output_type": "execute_result"
    }
   ],
   "source": [
    "# print first five rows\n",
    "data.head()"
   ]
  },
  {
   "cell_type": "code",
   "execution_count": 4,
   "metadata": {},
   "outputs": [],
   "source": [
    "# store NA Columns in na_cols\n",
    "na_cols = data.columns[data.isna().any()].tolist()"
   ]
  },
  {
   "cell_type": "code",
   "execution_count": 5,
   "metadata": {},
   "outputs": [
    {
     "data": {
      "text/plain": [
       "CRIM     float64\n",
       "ZN       float64\n",
       "INDUS    float64\n",
       "CHAS     float64\n",
       "AGE      float64\n",
       "LSTAT    float64\n",
       "dtype: object"
      ]
     },
     "execution_count": 5,
     "metadata": {},
     "output_type": "execute_result"
    }
   ],
   "source": [
    "# check datatype of columns with missing data\n",
    "data[na_cols].dtypes"
   ]
  },
  {
   "cell_type": "code",
   "execution_count": 31,
   "metadata": {},
   "outputs": [
    {
     "name": "stdout",
     "output_type": "stream",
     "text": [
      "no na detected\n"
     ]
    }
   ],
   "source": [
    "# a method to fill in mean for numerical columns' missing data\n",
    "def fill_na(df, na):\n",
    "    for i in na:\n",
    "        temp = df[i]\n",
    "        means = temp.mean()\n",
    "        temp = temp.fillna(means)\n",
    "        df[i] = temp\n",
    "    return df\n",
    "data_noNA = fill_na(data, na_cols)\n",
    "# check if the fillna method worked\n",
    "data_noNA_nacol = data_noNA.columns[data_noNA.isna().any()].tolist()\n",
    "\n",
    "if len(data_noNA_nacol) == 0:\n",
    "    print('no na detected')\n",
    "else:\n",
    "    print('{} na detected'.format(data_noNA_nacol))"
   ]
  },
  {
   "cell_type": "code",
   "execution_count": 32,
   "metadata": {},
   "outputs": [
    {
     "data": {
      "text/plain": [
       "<matplotlib.collections.PathCollection at 0x28eb7e02470>"
      ]
     },
     "execution_count": 32,
     "metadata": {},
     "output_type": "execute_result"
    },
    {
     "data": {
      "image/png": "[encoded data removed]",
      "text/plain": [
       "<Figure size 432x288 with 1 Axes>"
      ]
     },
     "metadata": {
      "needs_background": "light"
     },
     "output_type": "display_data"
    }
   ],
   "source": [
    "# print correlation between each feature and response variable\n",
    "plt.scatter(x=data_noNA.columns.tolist(), y=data_noNA.corr()[target][:])"
   ]
  },
  {
   "cell_type": "code",
   "execution_count": 56,
   "metadata": {},
   "outputs": [
    {
     "data": {
      "text/html": [
       "<table class=\"simpletable\">\n",
       "<caption>OLS Regression Results</caption>\n",
       "<tr>\n",
       "  <th>Dep. Variable:</th>          <td>MEDV</td>       <th>  R-squared (uncentered):</th>      <td>   0.958</td>\n",
       "</tr>\n",
       "<tr>\n",
       "  <th>Model:</th>                   <td>OLS</td>       <th>  Adj. R-squared (uncentered):</th> <td>   0.957</td>\n",
       "</tr>\n",
       "<tr>\n",
       "  <th>Method:</th>             <td>Least Squares</td>  <th>  F-statistic:       </th>          <td>   872.2</td>\n",
       "</tr>\n",
       "<tr>\n",
       "  <th>Date:</th>             <td>Thu, 19 Sep 2019</td> <th>  Prob (F-statistic):</th>           <td>  0.00</td> \n",
       "</tr>\n",
       "<tr>\n",
       "  <th>Time:</th>                 <td>22:47:45</td>     <th>  Log-Likelihood:    </th>          <td> -1529.0</td>\n",
       "</tr>\n",
       "<tr>\n",
       "  <th>No. Observations:</th>      <td>   506</td>      <th>  AIC:               </th>          <td>   3084.</td>\n",
       "</tr>\n",
       "<tr>\n",
       "  <th>Df Residuals:</th>          <td>   493</td>      <th>  BIC:               </th>          <td>   3139.</td>\n",
       "</tr>\n",
       "<tr>\n",
       "  <th>Df Model:</th>              <td>    13</td>      <th>                     </th>              <td> </td>   \n",
       "</tr>\n",
       "<tr>\n",
       "  <th>Covariance Type:</th>      <td>nonrobust</td>    <th>                     </th>              <td> </td>   \n",
       "</tr>\n",
       "</table>\n",
       "<table class=\"simpletable\">\n",
       "<tr>\n",
       "     <td></td>        <th>coef</th>     <th>std err</th>      <th>t</th>      <th>P>|t|</th>  <th>[0.025</th>    <th>0.975]</th>  \n",
       "</tr>\n",
       "<tr>\n",
       "  <th>CRIM</th>    <td>   -0.0953</td> <td>    0.034</td> <td>   -2.779</td> <td> 0.006</td> <td>   -0.163</td> <td>   -0.028</td>\n",
       "</tr>\n",
       "<tr>\n",
       "  <th>ZN</th>      <td>    0.0452</td> <td>    0.014</td> <td>    3.143</td> <td> 0.002</td> <td>    0.017</td> <td>    0.074</td>\n",
       "</tr>\n",
       "<tr>\n",
       "  <th>INDUS</th>   <td>   -0.0468</td> <td>    0.064</td> <td>   -0.735</td> <td> 0.463</td> <td>   -0.172</td> <td>    0.078</td>\n",
       "</tr>\n",
       "<tr>\n",
       "  <th>CHAS</th>    <td>    3.1345</td> <td>    0.924</td> <td>    3.392</td> <td> 0.001</td> <td>    1.319</td> <td>    4.950</td>\n",
       "</tr>\n",
       "<tr>\n",
       "  <th>NOX</th>     <td>   -2.9625</td> <td>    3.318</td> <td>   -0.893</td> <td> 0.372</td> <td>   -9.481</td> <td>    3.556</td>\n",
       "</tr>\n",
       "<tr>\n",
       "  <th>RM</th>      <td>    6.0518</td> <td>    0.307</td> <td>   19.714</td> <td> 0.000</td> <td>    5.449</td> <td>    6.655</td>\n",
       "</tr>\n",
       "<tr>\n",
       "  <th>AGE</th>     <td>   -0.0159</td> <td>    0.013</td> <td>   -1.176</td> <td> 0.240</td> <td>   -0.042</td> <td>    0.011</td>\n",
       "</tr>\n",
       "<tr>\n",
       "  <th>DIS</th>     <td>   -1.0043</td> <td>    0.192</td> <td>   -5.237</td> <td> 0.000</td> <td>   -1.381</td> <td>   -0.628</td>\n",
       "</tr>\n",
       "<tr>\n",
       "  <th>RAD</th>     <td>    0.1499</td> <td>    0.067</td> <td>    2.227</td> <td> 0.026</td> <td>    0.018</td> <td>    0.282</td>\n",
       "</tr>\n",
       "<tr>\n",
       "  <th>TAX</th>     <td>   -0.0083</td> <td>    0.004</td> <td>   -2.110</td> <td> 0.035</td> <td>   -0.016</td> <td>   -0.001</td>\n",
       "</tr>\n",
       "<tr>\n",
       "  <th>PTRATIO</th> <td>   -0.4017</td> <td>    0.112</td> <td>   -3.600</td> <td> 0.000</td> <td>   -0.621</td> <td>   -0.182</td>\n",
       "</tr>\n",
       "<tr>\n",
       "  <th>B</th>       <td>    0.0147</td> <td>    0.003</td> <td>    5.381</td> <td> 0.000</td> <td>    0.009</td> <td>    0.020</td>\n",
       "</tr>\n",
       "<tr>\n",
       "  <th>LSTAT</th>   <td>   -0.3724</td> <td>    0.050</td> <td>   -7.452</td> <td> 0.000</td> <td>   -0.471</td> <td>   -0.274</td>\n",
       "</tr>\n",
       "</table>\n",
       "<table class=\"simpletable\">\n",
       "<tr>\n",
       "  <th>Omnibus:</th>       <td>209.147</td> <th>  Durbin-Watson:     </th> <td>   0.996</td>\n",
       "</tr>\n",
       "<tr>\n",
       "  <th>Prob(Omnibus):</th> <td> 0.000</td>  <th>  Jarque-Bera (JB):  </th> <td>1461.565</td>\n",
       "</tr>\n",
       "<tr>\n",
       "  <th>Skew:</th>          <td> 1.644</td>  <th>  Prob(JB):          </th> <td>    0.00</td>\n",
       "</tr>\n",
       "<tr>\n",
       "  <th>Kurtosis:</th>      <td>10.649</td>  <th>  Cond. No.          </th> <td>8.31e+03</td>\n",
       "</tr>\n",
       "</table><br/><br/>Warnings:<br/>[1] Standard Errors assume that the covariance matrix of the errors is correctly specified.<br/>[2] The condition number is large, 8.31e+03. This might indicate that there are<br/>strong multicollinearity or other numerical problems."
      ],
      "text/plain": [
       "<class 'statsmodels.iolib.summary.Summary'>\n",
       "\"\"\"\n",
       "                                 OLS Regression Results                                \n",
       "=======================================================================================\n",
       "Dep. Variable:                   MEDV   R-squared (uncentered):                   0.958\n",
       "Model:                            OLS   Adj. R-squared (uncentered):              0.957\n",
       "Method:                 Least Squares   F-statistic:                              872.2\n",
       "Date:                Thu, 19 Sep 2019   Prob (F-statistic):                        0.00\n",
       "Time:                        22:47:45   Log-Likelihood:                         -1529.0\n",
       "No. Observations:                 506   AIC:                                      3084.\n",
       "Df Residuals:                     493   BIC:                                      3139.\n",
       "Df Model:                          13                                                  \n",
       "Covariance Type:            nonrobust                                                  \n",
       "==============================================================================\n",
       "                 coef    std err          t      P>|t|      [0.025      0.975]\n",
       "------------------------------------------------------------------------------\n",
       "CRIM          -0.0953      0.034     -2.779      0.006      -0.163      -0.028\n",
       "ZN             0.0452      0.014      3.143      0.002       0.017       0.074\n",
       "INDUS         -0.0468      0.064     -0.735      0.463      -0.172       0.078\n",
       "CHAS           3.1345      0.924      3.392      0.001       1.319       4.950\n",
       "NOX           -2.9625      3.318     -0.893      0.372      -9.481       3.556\n",
       "RM             6.0518      0.307     19.714      0.000       5.449       6.655\n",
       "AGE           -0.0159      0.013     -1.176      0.240      -0.042       0.011\n",
       "DIS           -1.0043      0.192     -5.237      0.000      -1.381      -0.628\n",
       "RAD            0.1499      0.067      2.227      0.026       0.018       0.282\n",
       "TAX           -0.0083      0.004     -2.110      0.035      -0.016      -0.001\n",
       "PTRATIO       -0.4017      0.112     -3.600      0.000      -0.621      -0.182\n",
       "B              0.0147      0.003      5.381      0.000       0.009       0.020\n",
       "LSTAT         -0.3724      0.050     -7.452      0.000      -0.471      -0.274\n",
       "==============================================================================\n",
       "Omnibus:                      209.147   Durbin-Watson:                   0.996\n",
       "Prob(Omnibus):                  0.000   Jarque-Bera (JB):             1461.565\n",
       "Skew:                           1.644   Prob(JB):                         0.00\n",
       "Kurtosis:                      10.649   Cond. No.                     8.31e+03\n",
       "==============================================================================\n",
       "\n",
       "Warnings:\n",
       "[1] Standard Errors assume that the covariance matrix of the errors is correctly specified.\n",
       "[2] The condition number is large, 8.31e+03. This might indicate that there are\n",
       "strong multicollinearity or other numerical problems.\n",
       "\"\"\""
      ]
     },
     "execution_count": 56,
     "metadata": {},
     "output_type": "execute_result"
    }
   ],
   "source": [
    "# split x and y\n",
    "# fit model with all features\n",
    "x = data_noNA[[i for i in data_noNA.columns.tolist() if i != target]]\n",
    "y = data_noNA[target]\n",
    "model = sm.OLS(y,x)\n",
    "results=model.fit()\n",
    "results.summary()"
   ]
  },
  {
   "cell_type": "code",
   "execution_count": 77,
   "metadata": {},
   "outputs": [
    {
     "name": "stdout",
     "output_type": "stream",
     "text": [
      "3084.0411849764632 3138.9861616772005 0.9572354030072374\n"
     ]
    }
   ],
   "source": [
    "# store statistics of the original model\n",
    "original_aic = results.aic\n",
    "original_bic = results.bic\n",
    "original_rsqr = results.rsquared_adj\n",
    "print(original_aic,original_bic,original_rsqr)"
   ]
  },
  {
   "cell_type": "code",
   "execution_count": 161,
   "metadata": {},
   "outputs": [
    {
     "name": "stdout",
     "output_type": "stream",
     "text": [
      "(506, 13)\n",
      "min aic is when dropping INDUS resulting aic 3082.59543235594\n",
      "(506, 12)\n",
      "min aic is when dropping NOX resulting aic 3081.858144435004\n",
      "(506, 11)\n",
      "loop ended, min aic reached\n",
      "new data shape is (506, 11)\n"
     ]
    }
   ],
   "source": [
    "# drop feature recursively\n",
    "# using aic as performance measure\n",
    "\n",
    "def eliminate_feature_aic(x, y, original_aic):\n",
    "    summary = {}\n",
    "    print(x.shape)\n",
    "    for i in x.columns.tolist():\n",
    "        x_temp = x[[k for k in x.columns.tolist() if k != i]]\n",
    "        model_temp = sm.OLS(y,x_temp)\n",
    "        results_temp = model_temp.fit()\n",
    "        temp_aic = results_temp.aic\n",
    "        summary[i] = temp_aic\n",
    "    minimum = original_aic\n",
    "    for i in summary.keys():\n",
    "        aic = summary[i]\n",
    "        if aic < minimum:\n",
    "            minimum = aic\n",
    "            min_feature = i\n",
    "    try:\n",
    "        print('min aic is when dropping {} resulting aic {}'.format(min_feature, minimum))\n",
    "    except:\n",
    "        print('loop ended, min aic reached')\n",
    "        return x\n",
    "    x = x[[k for k in x.columns.tolist() if k != min_feature]]\n",
    "    if len(x.columns.tolist()) <= 10:\n",
    "        return x\n",
    "    \n",
    "    original_aic = minimum\n",
    "    return eliminate_feature_aic(x, y, original_aic)\n",
    "\n",
    "\n",
    "new_x = eliminate_feature_aic(x, y, original_aic)\n",
    "print('new data shape is {}'.format(new_x.shape))"
   ]
  },
  {
   "cell_type": "code",
   "execution_count": 129,
   "metadata": {},
   "outputs": [
    {
     "name": "stdout",
     "output_type": "stream",
     "text": [
      "min aic is when dropping INDUS resulting 3133.3138723873894\n",
      "min aic is when dropping NOX resulting 3128.350047797166\n",
      "min aic is when dropping AGE resulting 3124.5497229731527\n",
      "new data shape is (506, 10)\n"
     ]
    }
   ],
   "source": [
    "# drop feature recursively\n",
    "# using bic as performance measure\n",
    "\n",
    "def eliminate_feature_bic(x, y, original_bic):\n",
    "    summary = {}\n",
    "    for i in x.columns.tolist():\n",
    "        x_temp = x[[k for k in x.columns.tolist() if k != i]]\n",
    "        model_temp = sm.OLS(y,x_temp)\n",
    "        results_temp = model_temp.fit()\n",
    "        temp_bic = results_temp.bic\n",
    "        summary[i] = temp_bic\n",
    "    minimum = original_bic\n",
    "    for i in summary.keys():\n",
    "        bic = summary[i]\n",
    "        if bic < minimum:\n",
    "            minimum = bic\n",
    "            min_feature = i\n",
    "    try:\n",
    "        print('min aic is when dropping {} resulting {}'.format(min_feature, minimum))\n",
    "    except:\n",
    "        print('loop ended, min bic reached')\n",
    "        return x\n",
    "    x = x[[k for k in x.columns.tolist() if k != min_feature]]\n",
    "    if len(x.columns.tolist()) <= 10:\n",
    "        return x\n",
    "    \n",
    "    original_bic = minimum\n",
    "    return eliminate_feature_bic(x, y, original_bic)\n",
    "\n",
    "\n",
    "new_x = eliminate_feature_bic(x, y, original_bic)\n",
    "print('new data shape is {}'.format(new_x.shape))"
   ]
  },
  {
   "cell_type": "code",
   "execution_count": 130,
   "metadata": {},
   "outputs": [
    {
     "name": "stdout",
     "output_type": "stream",
     "text": [
      "highest rsquare-adj is when dropping INDUS resulting 0.9572751980029789\n",
      "loop ended, reached highest adjusted r-square\n",
      "new data shape is (506, 12)\n"
     ]
    }
   ],
   "source": [
    "# drop feature recursively\n",
    "# using adjusted r-squared as performance measure\n",
    "\n",
    "def eliminate_feature_rs(x, y,original_rsqr):\n",
    "    summary = {}\n",
    "    for i in x.columns.tolist():\n",
    "        x_temp = x[[k for k in x.columns.tolist() if k != i]]\n",
    "        model_temp = sm.OLS(y,x_temp)\n",
    "        results_temp = model_temp.fit()\n",
    "        temp_rsqr = results_temp.rsquared_adj\n",
    "        summary[i] = temp_rsqr\n",
    "        \n",
    "    maximum = original_rsqr\n",
    "    for i in summary.keys():\n",
    "        r_sqr = summary[i]\n",
    "        if r_sqr > maximum:\n",
    "            maximum = r_sqr\n",
    "            max_feature = i\n",
    "    try:\n",
    "        print('highest rsquare-adj is when dropping {} resulting {}'.format(max_feature, maximum))\n",
    "    except:\n",
    "        print('loop ended, reached highest adjusted r-square')\n",
    "        return x\n",
    "    \n",
    "    x = x[[k for k in x.columns.tolist() if k != max_feature]]\n",
    "    if len(x.columns.tolist()) <= 10:\n",
    "        return x\n",
    "    original_rsqr = maximum\n",
    "    return eliminate_feature_rs(x, y, original_rsqr)\n",
    "\n",
    "\n",
    "new_x = eliminate_feature_rs(x, y,original_rsqr)\n",
    "print('new data shape is {}'.format(new_x.shape))"
   ]
  }
 ],
 "metadata": {
  "kernelspec": {
   "display_name": "Python 3",
   "language": "python",
   "name": "python3"
  },
  "language_info": {
   "codemirror_mode": {
    "name": "ipython",
    "version": 3
   },
   "file_extension": ".py",
   "mimetype": "text/x-python",
   "name": "python",
   "nbconvert_exporter": "python",
   "pygments_lexer": "ipython3",
   "version": "3.6.5"
  }
 },
 "nbformat": 4,
 "nbformat_minor": 2
}
